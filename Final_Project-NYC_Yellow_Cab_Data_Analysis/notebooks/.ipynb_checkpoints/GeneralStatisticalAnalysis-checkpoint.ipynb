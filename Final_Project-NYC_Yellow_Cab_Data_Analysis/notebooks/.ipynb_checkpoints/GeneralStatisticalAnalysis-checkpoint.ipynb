{
 "cells": [
  {
   "cell_type": "code",
   "execution_count": 2,
   "metadata": {
    "collapsed": true
   },
   "outputs": [],
   "source": [
    "import pandas as pd\n",
    "import os\n",
    "import glob\n",
    "import numpy as np\n",
    "import matplotlib.pyplot as plt\n",
    "import seaborn as sns\n",
    "sns.set()\n",
    "%matplotlib inline"
   ]
  },
  {
   "cell_type": "code",
   "execution_count": 3,
   "metadata": {
    "collapsed": true
   },
   "outputs": [],
   "source": [
    "extracted_files = glob.glob('..\\\\Data\\\\*\\\\*\\\\processed\\\\*.csv')\n",
    "df = pd.DataFrame()\n",
    "list_ = []\n",
    "for fileName in extracted_files:\n",
    "    short_df = pd.read_csv(fileName)\n",
    "    list_.append(short_df)\n",
    "df = pd.concat(list_)"
   ]
  },
  {
   "cell_type": "code",
   "execution_count": 4,
   "metadata": {
    "collapsed": false,
    "scrolled": true
   },
   "outputs": [],
   "source": [
    "description_df = df.describe()"
   ]
  },
  {
   "cell_type": "code",
   "execution_count": 5,
   "metadata": {
    "collapsed": false
   },
   "outputs": [],
   "source": [
    "description_df = description_df[['passenger_count', 'trip_distance','fare_amount','extra','mta_tax','tip_amount','tolls_amount','improvement_surcharge','total_amount']]"
   ]
  },
  {
   "cell_type": "code",
   "execution_count": 6,
   "metadata": {
    "collapsed": false,
    "scrolled": true
   },
   "outputs": [
    {
     "data": {
      "text/html": [
       "<div>\n",
       "<table border=\"1\" class=\"dataframe\">\n",
       "  <thead>\n",
       "    <tr style=\"text-align: right;\">\n",
       "      <th></th>\n",
       "      <th>passenger_count</th>\n",
       "      <th>trip_distance</th>\n",
       "      <th>fare_amount</th>\n",
       "      <th>extra</th>\n",
       "      <th>mta_tax</th>\n",
       "      <th>tip_amount</th>\n",
       "      <th>tolls_amount</th>\n",
       "      <th>improvement_surcharge</th>\n",
       "      <th>total_amount</th>\n",
       "    </tr>\n",
       "  </thead>\n",
       "  <tbody>\n",
       "    <tr>\n",
       "      <th>count</th>\n",
       "      <td>150774.000000</td>\n",
       "      <td>150774.000000</td>\n",
       "      <td>150774.000000</td>\n",
       "      <td>150774.000000</td>\n",
       "      <td>150774.000000</td>\n",
       "      <td>150774.000000</td>\n",
       "      <td>150774.000000</td>\n",
       "      <td>150774.000000</td>\n",
       "      <td>150774.000000</td>\n",
       "    </tr>\n",
       "    <tr>\n",
       "      <th>mean</th>\n",
       "      <td>1.475128</td>\n",
       "      <td>3.218923</td>\n",
       "      <td>12.778485</td>\n",
       "      <td>0.295781</td>\n",
       "      <td>0.496445</td>\n",
       "      <td>1.450825</td>\n",
       "      <td>0.257854</td>\n",
       "      <td>0.299968</td>\n",
       "      <td>15.579358</td>\n",
       "    </tr>\n",
       "    <tr>\n",
       "      <th>std</th>\n",
       "      <td>0.816061</td>\n",
       "      <td>3.732676</td>\n",
       "      <td>11.767395</td>\n",
       "      <td>0.280062</td>\n",
       "      <td>0.042010</td>\n",
       "      <td>4.099084</td>\n",
       "      <td>1.401734</td>\n",
       "      <td>0.003090</td>\n",
       "      <td>14.040645</td>\n",
       "    </tr>\n",
       "    <tr>\n",
       "      <th>min</th>\n",
       "      <td>0.000000</td>\n",
       "      <td>0.000000</td>\n",
       "      <td>0.000000</td>\n",
       "      <td>0.000000</td>\n",
       "      <td>0.000000</td>\n",
       "      <td>0.000000</td>\n",
       "      <td>0.000000</td>\n",
       "      <td>0.000000</td>\n",
       "      <td>0.000000</td>\n",
       "    </tr>\n",
       "    <tr>\n",
       "      <th>25%</th>\n",
       "      <td>1.000000</td>\n",
       "      <td>1.100000</td>\n",
       "      <td>6.500000</td>\n",
       "      <td>0.000000</td>\n",
       "      <td>0.500000</td>\n",
       "      <td>0.000000</td>\n",
       "      <td>0.000000</td>\n",
       "      <td>0.300000</td>\n",
       "      <td>8.150000</td>\n",
       "    </tr>\n",
       "    <tr>\n",
       "      <th>50%</th>\n",
       "      <td>1.000000</td>\n",
       "      <td>1.900000</td>\n",
       "      <td>9.000000</td>\n",
       "      <td>0.500000</td>\n",
       "      <td>0.500000</td>\n",
       "      <td>0.980000</td>\n",
       "      <td>0.000000</td>\n",
       "      <td>0.300000</td>\n",
       "      <td>11.300000</td>\n",
       "    </tr>\n",
       "    <tr>\n",
       "      <th>75%</th>\n",
       "      <td>2.000000</td>\n",
       "      <td>3.800000</td>\n",
       "      <td>15.000000</td>\n",
       "      <td>0.500000</td>\n",
       "      <td>0.500000</td>\n",
       "      <td>2.000000</td>\n",
       "      <td>0.000000</td>\n",
       "      <td>0.300000</td>\n",
       "      <td>17.750000</td>\n",
       "    </tr>\n",
       "    <tr>\n",
       "      <th>max</th>\n",
       "      <td>6.000000</td>\n",
       "      <td>175.200000</td>\n",
       "      <td>998.000000</td>\n",
       "      <td>2.000000</td>\n",
       "      <td>0.500000</td>\n",
       "      <td>998.140000</td>\n",
       "      <td>95.540000</td>\n",
       "      <td>0.300000</td>\n",
       "      <td>1004.940000</td>\n",
       "    </tr>\n",
       "  </tbody>\n",
       "</table>\n",
       "</div>"
      ],
      "text/plain": [
       "       passenger_count  trip_distance    fare_amount          extra  \\\n",
       "count    150774.000000  150774.000000  150774.000000  150774.000000   \n",
       "mean          1.475128       3.218923      12.778485       0.295781   \n",
       "std           0.816061       3.732676      11.767395       0.280062   \n",
       "min           0.000000       0.000000       0.000000       0.000000   \n",
       "25%           1.000000       1.100000       6.500000       0.000000   \n",
       "50%           1.000000       1.900000       9.000000       0.500000   \n",
       "75%           2.000000       3.800000      15.000000       0.500000   \n",
       "max           6.000000     175.200000     998.000000       2.000000   \n",
       "\n",
       "             mta_tax     tip_amount   tolls_amount  improvement_surcharge  \\\n",
       "count  150774.000000  150774.000000  150774.000000          150774.000000   \n",
       "mean        0.496445       1.450825       0.257854               0.299968   \n",
       "std         0.042010       4.099084       1.401734               0.003090   \n",
       "min         0.000000       0.000000       0.000000               0.000000   \n",
       "25%         0.500000       0.000000       0.000000               0.300000   \n",
       "50%         0.500000       0.980000       0.000000               0.300000   \n",
       "75%         0.500000       2.000000       0.000000               0.300000   \n",
       "max         0.500000     998.140000      95.540000               0.300000   \n",
       "\n",
       "        total_amount  \n",
       "count  150774.000000  \n",
       "mean       15.579358  \n",
       "std        14.040645  \n",
       "min         0.000000  \n",
       "25%         8.150000  \n",
       "50%        11.300000  \n",
       "75%        17.750000  \n",
       "max      1004.940000  "
      ]
     },
     "execution_count": 6,
     "metadata": {},
     "output_type": "execute_result"
    }
   ],
   "source": [
    "description_df"
   ]
  },
  {
   "cell_type": "code",
   "execution_count": 7,
   "metadata": {
    "collapsed": true
   },
   "outputs": [],
   "source": [
    "sum_row = df.sum(axis=0, numeric_only=True)"
   ]
  },
  {
   "cell_type": "code",
   "execution_count": 8,
   "metadata": {
    "collapsed": false
   },
   "outputs": [
    {
     "data": {
      "text/html": [
       "<div>\n",
       "<table border=\"1\" class=\"dataframe\">\n",
       "  <thead>\n",
       "    <tr style=\"text-align: right;\">\n",
       "      <th></th>\n",
       "      <th>0</th>\n",
       "    </tr>\n",
       "  </thead>\n",
       "  <tbody>\n",
       "    <tr>\n",
       "      <th>index</th>\n",
       "      <td>1.136632e+10</td>\n",
       "    </tr>\n",
       "    <tr>\n",
       "      <th>VendorID</th>\n",
       "      <td>1.507740e+05</td>\n",
       "    </tr>\n",
       "    <tr>\n",
       "      <th>passenger_count</th>\n",
       "      <td>2.224110e+05</td>\n",
       "    </tr>\n",
       "    <tr>\n",
       "      <th>trip_distance</th>\n",
       "      <td>4.853299e+05</td>\n",
       "    </tr>\n",
       "    <tr>\n",
       "      <th>pickup_longitude</th>\n",
       "      <td>-1.089626e+07</td>\n",
       "    </tr>\n",
       "    <tr>\n",
       "      <th>pickup_latitude</th>\n",
       "      <td>6.002464e+06</td>\n",
       "    </tr>\n",
       "    <tr>\n",
       "      <th>RatecodeID</th>\n",
       "      <td>1.578960e+05</td>\n",
       "    </tr>\n",
       "    <tr>\n",
       "      <th>dropoff_longitude</th>\n",
       "      <td>-1.090086e+07</td>\n",
       "    </tr>\n",
       "    <tr>\n",
       "      <th>dropoff_latitude</th>\n",
       "      <td>6.005368e+06</td>\n",
       "    </tr>\n",
       "    <tr>\n",
       "      <th>payment_type</th>\n",
       "      <td>2.228170e+05</td>\n",
       "    </tr>\n",
       "    <tr>\n",
       "      <th>fare_amount</th>\n",
       "      <td>1.926663e+06</td>\n",
       "    </tr>\n",
       "    <tr>\n",
       "      <th>extra</th>\n",
       "      <td>4.459602e+04</td>\n",
       "    </tr>\n",
       "    <tr>\n",
       "      <th>mta_tax</th>\n",
       "      <td>7.485100e+04</td>\n",
       "    </tr>\n",
       "    <tr>\n",
       "      <th>tip_amount</th>\n",
       "      <td>2.187466e+05</td>\n",
       "    </tr>\n",
       "    <tr>\n",
       "      <th>tolls_amount</th>\n",
       "      <td>3.887773e+04</td>\n",
       "    </tr>\n",
       "    <tr>\n",
       "      <th>improvement_surcharge</th>\n",
       "      <td>4.522740e+04</td>\n",
       "    </tr>\n",
       "    <tr>\n",
       "      <th>total_amount</th>\n",
       "      <td>2.348962e+06</td>\n",
       "    </tr>\n",
       "  </tbody>\n",
       "</table>\n",
       "</div>"
      ],
      "text/plain": [
       "                                  0\n",
       "index                  1.136632e+10\n",
       "VendorID               1.507740e+05\n",
       "passenger_count        2.224110e+05\n",
       "trip_distance          4.853299e+05\n",
       "pickup_longitude      -1.089626e+07\n",
       "pickup_latitude        6.002464e+06\n",
       "RatecodeID             1.578960e+05\n",
       "dropoff_longitude     -1.090086e+07\n",
       "dropoff_latitude       6.005368e+06\n",
       "payment_type           2.228170e+05\n",
       "fare_amount            1.926663e+06\n",
       "extra                  4.459602e+04\n",
       "mta_tax                7.485100e+04\n",
       "tip_amount             2.187466e+05\n",
       "tolls_amount           3.887773e+04\n",
       "improvement_surcharge  4.522740e+04\n",
       "total_amount           2.348962e+06"
      ]
     },
     "execution_count": 8,
     "metadata": {},
     "output_type": "execute_result"
    }
   ],
   "source": [
    "sum_frame = sum_row.to_frame()\n",
    "sum_frame"
   ]
  },
  {
   "cell_type": "code",
   "execution_count": 9,
   "metadata": {
    "collapsed": false
   },
   "outputs": [],
   "source": [
    "sum_frame = sum_frame.transpose()"
   ]
  },
  {
   "cell_type": "code",
   "execution_count": 10,
   "metadata": {
    "collapsed": false
   },
   "outputs": [],
   "source": [
    "sum_frame = sum_frame[['passenger_count', 'trip_distance','fare_amount','extra','mta_tax','tip_amount','tolls_amount','improvement_surcharge','total_amount']]"
   ]
  },
  {
   "cell_type": "code",
   "execution_count": 11,
   "metadata": {
    "collapsed": false
   },
   "outputs": [],
   "source": [
    "sum_frame = sum_frame.reset_index()"
   ]
  },
  {
   "cell_type": "code",
   "execution_count": 12,
   "metadata": {
    "collapsed": false
   },
   "outputs": [],
   "source": [
    "sum_frame['index'] = 'Sum'"
   ]
  },
  {
   "cell_type": "code",
   "execution_count": 13,
   "metadata": {
    "collapsed": true
   },
   "outputs": [],
   "source": [
    "description_df = description_df.reset_index()"
   ]
  },
  {
   "cell_type": "code",
   "execution_count": 14,
   "metadata": {
    "collapsed": false,
    "scrolled": true
   },
   "outputs": [],
   "source": [
    "description_df = description_df.append(sum_frame)"
   ]
  },
  {
   "cell_type": "code",
   "execution_count": 15,
   "metadata": {
    "collapsed": false,
    "scrolled": true
   },
   "outputs": [
    {
     "data": {
      "text/html": [
       "<div>\n",
       "<table border=\"1\" class=\"dataframe\">\n",
       "  <thead>\n",
       "    <tr style=\"text-align: right;\">\n",
       "      <th></th>\n",
       "      <th>index</th>\n",
       "      <th>passenger_count</th>\n",
       "      <th>trip_distance</th>\n",
       "      <th>fare_amount</th>\n",
       "      <th>extra</th>\n",
       "      <th>mta_tax</th>\n",
       "      <th>tip_amount</th>\n",
       "      <th>tolls_amount</th>\n",
       "      <th>improvement_surcharge</th>\n",
       "      <th>total_amount</th>\n",
       "    </tr>\n",
       "  </thead>\n",
       "  <tbody>\n",
       "    <tr>\n",
       "      <th>0</th>\n",
       "      <td>count</td>\n",
       "      <td>150774.00</td>\n",
       "      <td>150774.00</td>\n",
       "      <td>150774.00</td>\n",
       "      <td>150774.00</td>\n",
       "      <td>150774.00</td>\n",
       "      <td>150774.00</td>\n",
       "      <td>150774.00</td>\n",
       "      <td>150774.0</td>\n",
       "      <td>150774.00</td>\n",
       "    </tr>\n",
       "    <tr>\n",
       "      <th>1</th>\n",
       "      <td>mean</td>\n",
       "      <td>1.48</td>\n",
       "      <td>3.22</td>\n",
       "      <td>12.78</td>\n",
       "      <td>0.30</td>\n",
       "      <td>0.50</td>\n",
       "      <td>1.45</td>\n",
       "      <td>0.26</td>\n",
       "      <td>0.3</td>\n",
       "      <td>15.58</td>\n",
       "    </tr>\n",
       "    <tr>\n",
       "      <th>2</th>\n",
       "      <td>std</td>\n",
       "      <td>0.82</td>\n",
       "      <td>3.73</td>\n",
       "      <td>11.77</td>\n",
       "      <td>0.28</td>\n",
       "      <td>0.04</td>\n",
       "      <td>4.10</td>\n",
       "      <td>1.40</td>\n",
       "      <td>0.0</td>\n",
       "      <td>14.04</td>\n",
       "    </tr>\n",
       "    <tr>\n",
       "      <th>3</th>\n",
       "      <td>min</td>\n",
       "      <td>0.00</td>\n",
       "      <td>0.00</td>\n",
       "      <td>0.00</td>\n",
       "      <td>0.00</td>\n",
       "      <td>0.00</td>\n",
       "      <td>0.00</td>\n",
       "      <td>0.00</td>\n",
       "      <td>0.0</td>\n",
       "      <td>0.00</td>\n",
       "    </tr>\n",
       "    <tr>\n",
       "      <th>4</th>\n",
       "      <td>25%</td>\n",
       "      <td>1.00</td>\n",
       "      <td>1.10</td>\n",
       "      <td>6.50</td>\n",
       "      <td>0.00</td>\n",
       "      <td>0.50</td>\n",
       "      <td>0.00</td>\n",
       "      <td>0.00</td>\n",
       "      <td>0.3</td>\n",
       "      <td>8.15</td>\n",
       "    </tr>\n",
       "    <tr>\n",
       "      <th>5</th>\n",
       "      <td>50%</td>\n",
       "      <td>1.00</td>\n",
       "      <td>1.90</td>\n",
       "      <td>9.00</td>\n",
       "      <td>0.50</td>\n",
       "      <td>0.50</td>\n",
       "      <td>0.98</td>\n",
       "      <td>0.00</td>\n",
       "      <td>0.3</td>\n",
       "      <td>11.30</td>\n",
       "    </tr>\n",
       "    <tr>\n",
       "      <th>6</th>\n",
       "      <td>75%</td>\n",
       "      <td>2.00</td>\n",
       "      <td>3.80</td>\n",
       "      <td>15.00</td>\n",
       "      <td>0.50</td>\n",
       "      <td>0.50</td>\n",
       "      <td>2.00</td>\n",
       "      <td>0.00</td>\n",
       "      <td>0.3</td>\n",
       "      <td>17.75</td>\n",
       "    </tr>\n",
       "    <tr>\n",
       "      <th>7</th>\n",
       "      <td>max</td>\n",
       "      <td>6.00</td>\n",
       "      <td>175.20</td>\n",
       "      <td>998.00</td>\n",
       "      <td>2.00</td>\n",
       "      <td>0.50</td>\n",
       "      <td>998.14</td>\n",
       "      <td>95.54</td>\n",
       "      <td>0.3</td>\n",
       "      <td>1004.94</td>\n",
       "    </tr>\n",
       "    <tr>\n",
       "      <th>0</th>\n",
       "      <td>Sum</td>\n",
       "      <td>222411.00</td>\n",
       "      <td>485329.90</td>\n",
       "      <td>1926663.28</td>\n",
       "      <td>44596.02</td>\n",
       "      <td>74851.00</td>\n",
       "      <td>218746.62</td>\n",
       "      <td>38877.73</td>\n",
       "      <td>45227.4</td>\n",
       "      <td>2348962.05</td>\n",
       "    </tr>\n",
       "  </tbody>\n",
       "</table>\n",
       "</div>"
      ],
      "text/plain": [
       "   index  passenger_count  trip_distance  fare_amount      extra    mta_tax  \\\n",
       "0  count        150774.00      150774.00    150774.00  150774.00  150774.00   \n",
       "1   mean             1.48           3.22        12.78       0.30       0.50   \n",
       "2    std             0.82           3.73        11.77       0.28       0.04   \n",
       "3    min             0.00           0.00         0.00       0.00       0.00   \n",
       "4    25%             1.00           1.10         6.50       0.00       0.50   \n",
       "5    50%             1.00           1.90         9.00       0.50       0.50   \n",
       "6    75%             2.00           3.80        15.00       0.50       0.50   \n",
       "7    max             6.00         175.20       998.00       2.00       0.50   \n",
       "0    Sum        222411.00      485329.90   1926663.28   44596.02   74851.00   \n",
       "\n",
       "   tip_amount  tolls_amount  improvement_surcharge  total_amount  \n",
       "0   150774.00     150774.00               150774.0     150774.00  \n",
       "1        1.45          0.26                    0.3         15.58  \n",
       "2        4.10          1.40                    0.0         14.04  \n",
       "3        0.00          0.00                    0.0          0.00  \n",
       "4        0.00          0.00                    0.3          8.15  \n",
       "5        0.98          0.00                    0.3         11.30  \n",
       "6        2.00          0.00                    0.3         17.75  \n",
       "7      998.14         95.54                    0.3       1004.94  \n",
       "0   218746.62      38877.73                45227.4    2348962.05  "
      ]
     },
     "execution_count": 15,
     "metadata": {},
     "output_type": "execute_result"
    }
   ],
   "source": [
    "description_df = description_df.round(2)\n",
    "description_df"
   ]
  }
 ],
 "metadata": {
  "kernelspec": {
   "display_name": "Python [Root]",
   "language": "python",
   "name": "Python [Root]"
  },
  "language_info": {
   "codemirror_mode": {
    "name": "ipython",
    "version": 3
   },
   "file_extension": ".py",
   "mimetype": "text/x-python",
   "name": "python",
   "nbconvert_exporter": "python",
   "pygments_lexer": "ipython3",
   "version": "3.5.2"
  }
 },
 "nbformat": 4,
 "nbformat_minor": 0
}
