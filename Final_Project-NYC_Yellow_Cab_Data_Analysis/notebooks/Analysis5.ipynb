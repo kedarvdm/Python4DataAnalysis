{
 "cells": [
  {
   "cell_type": "markdown",
   "metadata": {},
   "source": [
    "## Question 5\n",
    "### Yellow Cab Vs Lyft Based on Passenger Count"
   ]
  },
  {
   "cell_type": "code",
   "execution_count": 1,
   "metadata": {
    "collapsed": true
   },
   "outputs": [],
   "source": [
    "import pandas as pd\n",
    "import os\n",
    "import glob\n",
    "import numpy as np\n",
    "import matplotlib.pyplot as plt\n",
    "import seaborn as sns\n",
    "sns.set()\n",
    "%matplotlib inline"
   ]
  },
  {
   "cell_type": "code",
   "execution_count": 2,
   "metadata": {
    "collapsed": false
   },
   "outputs": [],
   "source": [
    "extracted_files = glob.glob('..\\\\Data\\\\*\\\\*\\\\lyftdata\\\\*.csv')\n",
    "df = pd.DataFrame()\n",
    "list_ = []\n",
    "for fileName in extracted_files:\n",
    "    short_df = pd.read_csv(fileName)\n",
    "    list_.append(short_df)\n",
    "df = pd.concat(list_)"
   ]
  },
  {
   "cell_type": "code",
   "execution_count": 3,
   "metadata": {
    "collapsed": false
   },
   "outputs": [],
   "source": [
    "#Ignoring the outliars\n",
    "df = df[df['tip_amount']<df['fare_amount']]\n",
    "df['passenger_count'] = df['passenger_count'].apply(lambda x: 1 if x == 0 else x)"
   ]
  },
  {
   "cell_type": "code",
   "execution_count": 4,
   "metadata": {
    "collapsed": false,
    "scrolled": true
   },
   "outputs": [
    {
     "data": {
      "text/html": [
       "<div>\n",
       "<table border=\"1\" class=\"dataframe\">\n",
       "  <thead>\n",
       "    <tr style=\"text-align: right;\">\n",
       "      <th></th>\n",
       "      <th>index</th>\n",
       "      <th>VendorID</th>\n",
       "      <th>tpep_pickup_datetime</th>\n",
       "      <th>tpep_dropoff_datetime</th>\n",
       "      <th>passenger_count</th>\n",
       "      <th>trip_distance</th>\n",
       "      <th>pickup_longitude</th>\n",
       "      <th>pickup_latitude</th>\n",
       "      <th>RatecodeID</th>\n",
       "      <th>store_and_fwd_flag</th>\n",
       "      <th>...</th>\n",
       "      <th>improvement_surcharge</th>\n",
       "      <th>total_amount</th>\n",
       "      <th>travel_date</th>\n",
       "      <th>pickup_area</th>\n",
       "      <th>dropoff_area</th>\n",
       "      <th>lyft_cost</th>\n",
       "      <th>lyft_plus_cost</th>\n",
       "      <th>lyft_line_cost</th>\n",
       "      <th>lyft_distance</th>\n",
       "      <th>lyft_duration</th>\n",
       "    </tr>\n",
       "  </thead>\n",
       "  <tbody>\n",
       "    <tr>\n",
       "      <th>0</th>\n",
       "      <td>0</td>\n",
       "      <td>1</td>\n",
       "      <td>2016-01-01 00:00:01</td>\n",
       "      <td>2016-01-01 00:11:55</td>\n",
       "      <td>1</td>\n",
       "      <td>1.2</td>\n",
       "      <td>-73.979424</td>\n",
       "      <td>40.744614</td>\n",
       "      <td>1</td>\n",
       "      <td>N</td>\n",
       "      <td>...</td>\n",
       "      <td>0.3</td>\n",
       "      <td>10.30</td>\n",
       "      <td>2016-01-01</td>\n",
       "      <td>Manhattan</td>\n",
       "      <td>Manhattan</td>\n",
       "      <td>11.0</td>\n",
       "      <td>15.5</td>\n",
       "      <td>6.25</td>\n",
       "      <td>1.25</td>\n",
       "      <td>852</td>\n",
       "    </tr>\n",
       "    <tr>\n",
       "      <th>1</th>\n",
       "      <td>1</td>\n",
       "      <td>1</td>\n",
       "      <td>2016-01-01 00:00:02</td>\n",
       "      <td>2016-01-01 00:11:14</td>\n",
       "      <td>1</td>\n",
       "      <td>6.0</td>\n",
       "      <td>-73.947151</td>\n",
       "      <td>40.791046</td>\n",
       "      <td>1</td>\n",
       "      <td>N</td>\n",
       "      <td>...</td>\n",
       "      <td>0.3</td>\n",
       "      <td>19.30</td>\n",
       "      <td>2016-01-01</td>\n",
       "      <td>Manhattan</td>\n",
       "      <td>Manhattan</td>\n",
       "      <td>22.5</td>\n",
       "      <td>34.5</td>\n",
       "      <td>18.70</td>\n",
       "      <td>6.54</td>\n",
       "      <td>1378</td>\n",
       "    </tr>\n",
       "    <tr>\n",
       "      <th>2</th>\n",
       "      <td>2</td>\n",
       "      <td>1</td>\n",
       "      <td>2016-01-01 00:00:04</td>\n",
       "      <td>2016-01-01 00:14:32</td>\n",
       "      <td>1</td>\n",
       "      <td>3.7</td>\n",
       "      <td>-74.004303</td>\n",
       "      <td>40.742241</td>\n",
       "      <td>1</td>\n",
       "      <td>N</td>\n",
       "      <td>...</td>\n",
       "      <td>0.3</td>\n",
       "      <td>18.35</td>\n",
       "      <td>2016-01-01</td>\n",
       "      <td>Manhattan</td>\n",
       "      <td>Manhattan</td>\n",
       "      <td>17.0</td>\n",
       "      <td>25.0</td>\n",
       "      <td>10.61</td>\n",
       "      <td>3.24</td>\n",
       "      <td>1411</td>\n",
       "    </tr>\n",
       "    <tr>\n",
       "      <th>3</th>\n",
       "      <td>3</td>\n",
       "      <td>1</td>\n",
       "      <td>2016-01-01 00:00:05</td>\n",
       "      <td>2016-01-01 00:14:27</td>\n",
       "      <td>2</td>\n",
       "      <td>2.2</td>\n",
       "      <td>-73.991997</td>\n",
       "      <td>40.718578</td>\n",
       "      <td>1</td>\n",
       "      <td>N</td>\n",
       "      <td>...</td>\n",
       "      <td>0.3</td>\n",
       "      <td>13.80</td>\n",
       "      <td>2016-01-01</td>\n",
       "      <td>Manhattan</td>\n",
       "      <td>Manhattan</td>\n",
       "      <td>14.0</td>\n",
       "      <td>20.5</td>\n",
       "      <td>8.80</td>\n",
       "      <td>2.30</td>\n",
       "      <td>1214</td>\n",
       "    </tr>\n",
       "    <tr>\n",
       "      <th>4</th>\n",
       "      <td>4</td>\n",
       "      <td>1</td>\n",
       "      <td>2016-01-01 00:00:06</td>\n",
       "      <td>2016-01-01 00:04:44</td>\n",
       "      <td>1</td>\n",
       "      <td>1.7</td>\n",
       "      <td>-73.982101</td>\n",
       "      <td>40.774696</td>\n",
       "      <td>1</td>\n",
       "      <td>Y</td>\n",
       "      <td>...</td>\n",
       "      <td>0.3</td>\n",
       "      <td>9.95</td>\n",
       "      <td>2016-01-01</td>\n",
       "      <td>Manhattan</td>\n",
       "      <td>Manhattan</td>\n",
       "      <td>11.0</td>\n",
       "      <td>16.0</td>\n",
       "      <td>8.67</td>\n",
       "      <td>2.04</td>\n",
       "      <td>713</td>\n",
       "    </tr>\n",
       "  </tbody>\n",
       "</table>\n",
       "<p>5 rows × 28 columns</p>\n",
       "</div>"
      ],
      "text/plain": [
       "   index  VendorID tpep_pickup_datetime tpep_dropoff_datetime  \\\n",
       "0      0         1  2016-01-01 00:00:01   2016-01-01 00:11:55   \n",
       "1      1         1  2016-01-01 00:00:02   2016-01-01 00:11:14   \n",
       "2      2         1  2016-01-01 00:00:04   2016-01-01 00:14:32   \n",
       "3      3         1  2016-01-01 00:00:05   2016-01-01 00:14:27   \n",
       "4      4         1  2016-01-01 00:00:06   2016-01-01 00:04:44   \n",
       "\n",
       "   passenger_count  trip_distance  pickup_longitude  pickup_latitude  \\\n",
       "0                1            1.2        -73.979424        40.744614   \n",
       "1                1            6.0        -73.947151        40.791046   \n",
       "2                1            3.7        -74.004303        40.742241   \n",
       "3                2            2.2        -73.991997        40.718578   \n",
       "4                1            1.7        -73.982101        40.774696   \n",
       "\n",
       "   RatecodeID store_and_fwd_flag      ...        improvement_surcharge  \\\n",
       "0           1                  N      ...                          0.3   \n",
       "1           1                  N      ...                          0.3   \n",
       "2           1                  N      ...                          0.3   \n",
       "3           1                  N      ...                          0.3   \n",
       "4           1                  Y      ...                          0.3   \n",
       "\n",
       "   total_amount  travel_date  pickup_area  dropoff_area  lyft_cost  \\\n",
       "0         10.30   2016-01-01    Manhattan     Manhattan       11.0   \n",
       "1         19.30   2016-01-01    Manhattan     Manhattan       22.5   \n",
       "2         18.35   2016-01-01    Manhattan     Manhattan       17.0   \n",
       "3         13.80   2016-01-01    Manhattan     Manhattan       14.0   \n",
       "4          9.95   2016-01-01    Manhattan     Manhattan       11.0   \n",
       "\n",
       "   lyft_plus_cost  lyft_line_cost  lyft_distance  lyft_duration  \n",
       "0            15.5            6.25           1.25            852  \n",
       "1            34.5           18.70           6.54           1378  \n",
       "2            25.0           10.61           3.24           1411  \n",
       "3            20.5            8.80           2.30           1214  \n",
       "4            16.0            8.67           2.04            713  \n",
       "\n",
       "[5 rows x 28 columns]"
      ]
     },
     "execution_count": 4,
     "metadata": {},
     "output_type": "execute_result"
    }
   ],
   "source": [
    "df.head()"
   ]
  },
  {
   "cell_type": "code",
   "execution_count": 5,
   "metadata": {
    "collapsed": false
   },
   "outputs": [
    {
     "data": {
      "text/plain": [
       "array([1, 2, 3, 4, 6, 5], dtype=int64)"
      ]
     },
     "execution_count": 5,
     "metadata": {},
     "output_type": "execute_result"
    }
   ],
   "source": [
    "df.passenger_count.unique()"
   ]
  },
  {
   "cell_type": "code",
   "execution_count": 6,
   "metadata": {
    "collapsed": true
   },
   "outputs": [],
   "source": [
    "def calculate_estimated_lyft_cost(row):\n",
    "    passenger_count = row['passenger_count']\n",
    "    #as lyft estimation does not contain tips, substracting tip from Yellow taxi total_amount\n",
    "    cost_without_tip = row['total_amount'] - row['tip_amount']\n",
    "    estimated_lyft_cost = 0\n",
    "    if 0 <= passenger_count <= 1:\n",
    "        #for 1 passenger lyft line is economical\n",
    "        estimated_lyft_cost = row['lyft_line_cost']\n",
    "    elif 2<= passenger_count <=4:\n",
    "        #for passenger count between 2 to max 4 lyft is economical\n",
    "        estimated_lyft_cost = row['lyft_cost']\n",
    "    else:\n",
    "        #for passenger count between 2 to max 4 lyft is economical\n",
    "        estimated_lyft_cost = row['lyft_plus_cost']\n",
    "    \n",
    "    return pd.Series([cost_without_tip, estimated_lyft_cost])"
   ]
  },
  {
   "cell_type": "code",
   "execution_count": 7,
   "metadata": {
    "collapsed": false
   },
   "outputs": [],
   "source": [
    "data =  df.apply(lambda row: calculate_estimated_lyft_cost(row), axis=1)\n",
    "data.columns = ['cost_without_tip', 'estimated_lyft_cost']\n",
    "df = df.join(data)"
   ]
  },
  {
   "cell_type": "code",
   "execution_count": 8,
   "metadata": {
    "collapsed": false,
    "scrolled": true
   },
   "outputs": [
    {
     "data": {
      "text/html": [
       "<div>\n",
       "<table border=\"1\" class=\"dataframe\">\n",
       "  <thead>\n",
       "    <tr style=\"text-align: right;\">\n",
       "      <th></th>\n",
       "      <th>index</th>\n",
       "      <th>VendorID</th>\n",
       "      <th>tpep_pickup_datetime</th>\n",
       "      <th>tpep_dropoff_datetime</th>\n",
       "      <th>passenger_count</th>\n",
       "      <th>trip_distance</th>\n",
       "      <th>pickup_longitude</th>\n",
       "      <th>pickup_latitude</th>\n",
       "      <th>RatecodeID</th>\n",
       "      <th>store_and_fwd_flag</th>\n",
       "      <th>...</th>\n",
       "      <th>travel_date</th>\n",
       "      <th>pickup_area</th>\n",
       "      <th>dropoff_area</th>\n",
       "      <th>lyft_cost</th>\n",
       "      <th>lyft_plus_cost</th>\n",
       "      <th>lyft_line_cost</th>\n",
       "      <th>lyft_distance</th>\n",
       "      <th>lyft_duration</th>\n",
       "      <th>cost_without_tip</th>\n",
       "      <th>estimated_lyft_cost</th>\n",
       "    </tr>\n",
       "  </thead>\n",
       "  <tbody>\n",
       "    <tr>\n",
       "      <th>0</th>\n",
       "      <td>0</td>\n",
       "      <td>1</td>\n",
       "      <td>2016-01-01 00:00:01</td>\n",
       "      <td>2016-01-01 00:11:55</td>\n",
       "      <td>1</td>\n",
       "      <td>1.2</td>\n",
       "      <td>-73.979424</td>\n",
       "      <td>40.744614</td>\n",
       "      <td>1</td>\n",
       "      <td>N</td>\n",
       "      <td>...</td>\n",
       "      <td>2016-01-01</td>\n",
       "      <td>Manhattan</td>\n",
       "      <td>Manhattan</td>\n",
       "      <td>11.0</td>\n",
       "      <td>15.5</td>\n",
       "      <td>6.25</td>\n",
       "      <td>1.25</td>\n",
       "      <td>852</td>\n",
       "      <td>10.3</td>\n",
       "      <td>6.25</td>\n",
       "    </tr>\n",
       "    <tr>\n",
       "      <th>0</th>\n",
       "      <td>0</td>\n",
       "      <td>1</td>\n",
       "      <td>2016-01-01 00:00:01</td>\n",
       "      <td>2016-01-01 00:11:55</td>\n",
       "      <td>1</td>\n",
       "      <td>1.2</td>\n",
       "      <td>-73.979424</td>\n",
       "      <td>40.744614</td>\n",
       "      <td>1</td>\n",
       "      <td>N</td>\n",
       "      <td>...</td>\n",
       "      <td>2016-01-01</td>\n",
       "      <td>Manhattan</td>\n",
       "      <td>Manhattan</td>\n",
       "      <td>11.0</td>\n",
       "      <td>15.5</td>\n",
       "      <td>6.25</td>\n",
       "      <td>1.25</td>\n",
       "      <td>852</td>\n",
       "      <td>10.8</td>\n",
       "      <td>12.50</td>\n",
       "    </tr>\n",
       "    <tr>\n",
       "      <th>0</th>\n",
       "      <td>0</td>\n",
       "      <td>1</td>\n",
       "      <td>2016-01-01 00:00:01</td>\n",
       "      <td>2016-01-01 00:11:55</td>\n",
       "      <td>1</td>\n",
       "      <td>1.2</td>\n",
       "      <td>-73.979424</td>\n",
       "      <td>40.744614</td>\n",
       "      <td>1</td>\n",
       "      <td>N</td>\n",
       "      <td>...</td>\n",
       "      <td>2016-01-01</td>\n",
       "      <td>Manhattan</td>\n",
       "      <td>Manhattan</td>\n",
       "      <td>11.0</td>\n",
       "      <td>15.5</td>\n",
       "      <td>6.25</td>\n",
       "      <td>1.25</td>\n",
       "      <td>852</td>\n",
       "      <td>13.8</td>\n",
       "      <td>14.17</td>\n",
       "    </tr>\n",
       "    <tr>\n",
       "      <th>0</th>\n",
       "      <td>0</td>\n",
       "      <td>1</td>\n",
       "      <td>2016-01-01 00:00:01</td>\n",
       "      <td>2016-01-01 00:11:55</td>\n",
       "      <td>1</td>\n",
       "      <td>1.2</td>\n",
       "      <td>-73.979424</td>\n",
       "      <td>40.744614</td>\n",
       "      <td>1</td>\n",
       "      <td>N</td>\n",
       "      <td>...</td>\n",
       "      <td>2016-01-01</td>\n",
       "      <td>Manhattan</td>\n",
       "      <td>Manhattan</td>\n",
       "      <td>11.0</td>\n",
       "      <td>15.5</td>\n",
       "      <td>6.25</td>\n",
       "      <td>1.25</td>\n",
       "      <td>852</td>\n",
       "      <td>10.3</td>\n",
       "      <td>9.69</td>\n",
       "    </tr>\n",
       "    <tr>\n",
       "      <th>0</th>\n",
       "      <td>0</td>\n",
       "      <td>1</td>\n",
       "      <td>2016-01-01 00:00:01</td>\n",
       "      <td>2016-01-01 00:11:55</td>\n",
       "      <td>1</td>\n",
       "      <td>1.2</td>\n",
       "      <td>-73.979424</td>\n",
       "      <td>40.744614</td>\n",
       "      <td>1</td>\n",
       "      <td>N</td>\n",
       "      <td>...</td>\n",
       "      <td>2016-01-01</td>\n",
       "      <td>Manhattan</td>\n",
       "      <td>Manhattan</td>\n",
       "      <td>11.0</td>\n",
       "      <td>15.5</td>\n",
       "      <td>6.25</td>\n",
       "      <td>1.25</td>\n",
       "      <td>852</td>\n",
       "      <td>13.3</td>\n",
       "      <td>12.03</td>\n",
       "    </tr>\n",
       "  </tbody>\n",
       "</table>\n",
       "<p>5 rows × 30 columns</p>\n",
       "</div>"
      ],
      "text/plain": [
       "   index  VendorID tpep_pickup_datetime tpep_dropoff_datetime  \\\n",
       "0      0         1  2016-01-01 00:00:01   2016-01-01 00:11:55   \n",
       "0      0         1  2016-01-01 00:00:01   2016-01-01 00:11:55   \n",
       "0      0         1  2016-01-01 00:00:01   2016-01-01 00:11:55   \n",
       "0      0         1  2016-01-01 00:00:01   2016-01-01 00:11:55   \n",
       "0      0         1  2016-01-01 00:00:01   2016-01-01 00:11:55   \n",
       "\n",
       "   passenger_count  trip_distance  pickup_longitude  pickup_latitude  \\\n",
       "0                1            1.2        -73.979424        40.744614   \n",
       "0                1            1.2        -73.979424        40.744614   \n",
       "0                1            1.2        -73.979424        40.744614   \n",
       "0                1            1.2        -73.979424        40.744614   \n",
       "0                1            1.2        -73.979424        40.744614   \n",
       "\n",
       "   RatecodeID store_and_fwd_flag         ...           travel_date  \\\n",
       "0           1                  N         ...            2016-01-01   \n",
       "0           1                  N         ...            2016-01-01   \n",
       "0           1                  N         ...            2016-01-01   \n",
       "0           1                  N         ...            2016-01-01   \n",
       "0           1                  N         ...            2016-01-01   \n",
       "\n",
       "   pickup_area  dropoff_area  lyft_cost  lyft_plus_cost  lyft_line_cost  \\\n",
       "0    Manhattan     Manhattan       11.0            15.5            6.25   \n",
       "0    Manhattan     Manhattan       11.0            15.5            6.25   \n",
       "0    Manhattan     Manhattan       11.0            15.5            6.25   \n",
       "0    Manhattan     Manhattan       11.0            15.5            6.25   \n",
       "0    Manhattan     Manhattan       11.0            15.5            6.25   \n",
       "\n",
       "   lyft_distance  lyft_duration  cost_without_tip  estimated_lyft_cost  \n",
       "0           1.25            852              10.3                 6.25  \n",
       "0           1.25            852              10.8                12.50  \n",
       "0           1.25            852              13.8                14.17  \n",
       "0           1.25            852              10.3                 9.69  \n",
       "0           1.25            852              13.3                12.03  \n",
       "\n",
       "[5 rows x 30 columns]"
      ]
     },
     "execution_count": 8,
     "metadata": {},
     "output_type": "execute_result"
    }
   ],
   "source": [
    "df.head()"
   ]
  },
  {
   "cell_type": "code",
   "execution_count": 9,
   "metadata": {
    "collapsed": true
   },
   "outputs": [],
   "source": [
    "grouped_yellow_cab_series_df = df['cost_without_tip'].groupby(df['passenger_count']).mean()\n",
    "grouped_lyft_series_df = df['estimated_lyft_cost'].groupby(df['passenger_count']).mean()"
   ]
  },
  {
   "cell_type": "code",
   "execution_count": 10,
   "metadata": {
    "collapsed": false,
    "scrolled": true
   },
   "outputs": [],
   "source": [
    "grouped_yellow_cab_df = grouped_yellow_cab_series_df.to_frame()"
   ]
  },
  {
   "cell_type": "code",
   "execution_count": 11,
   "metadata": {
    "collapsed": false,
    "scrolled": true
   },
   "outputs": [],
   "source": [
    "grouped_lyft_df = grouped_lyft_series_df.to_frame()"
   ]
  },
  {
   "cell_type": "code",
   "execution_count": 12,
   "metadata": {
    "collapsed": true
   },
   "outputs": [],
   "source": [
    "grouped_df = grouped_yellow_cab_df.join(grouped_lyft_df)"
   ]
  },
  {
   "cell_type": "code",
   "execution_count": 13,
   "metadata": {
    "collapsed": false,
    "scrolled": true
   },
   "outputs": [],
   "source": [
    "grouped_df = grouped_df.reset_index()"
   ]
  },
  {
   "cell_type": "code",
   "execution_count": 14,
   "metadata": {
    "collapsed": false
   },
   "outputs": [
    {
     "data": {
      "text/html": [
       "<div>\n",
       "<table border=\"1\" class=\"dataframe\">\n",
       "  <thead>\n",
       "    <tr style=\"text-align: right;\">\n",
       "      <th></th>\n",
       "      <th>passenger_count</th>\n",
       "      <th>cost_without_tip</th>\n",
       "      <th>estimated_lyft_cost</th>\n",
       "    </tr>\n",
       "  </thead>\n",
       "  <tbody>\n",
       "    <tr>\n",
       "      <th>0</th>\n",
       "      <td>1</td>\n",
       "      <td>15.527082</td>\n",
       "      <td>14.524888</td>\n",
       "    </tr>\n",
       "    <tr>\n",
       "      <th>1</th>\n",
       "      <td>2</td>\n",
       "      <td>15.619222</td>\n",
       "      <td>14.691039</td>\n",
       "    </tr>\n",
       "    <tr>\n",
       "      <th>2</th>\n",
       "      <td>3</td>\n",
       "      <td>15.563207</td>\n",
       "      <td>14.589872</td>\n",
       "    </tr>\n",
       "    <tr>\n",
       "      <th>3</th>\n",
       "      <td>4</td>\n",
       "      <td>15.802088</td>\n",
       "      <td>14.770006</td>\n",
       "    </tr>\n",
       "    <tr>\n",
       "      <th>4</th>\n",
       "      <td>5</td>\n",
       "      <td>15.293308</td>\n",
       "      <td>14.433477</td>\n",
       "    </tr>\n",
       "    <tr>\n",
       "      <th>5</th>\n",
       "      <td>6</td>\n",
       "      <td>14.042696</td>\n",
       "      <td>13.716770</td>\n",
       "    </tr>\n",
       "  </tbody>\n",
       "</table>\n",
       "</div>"
      ],
      "text/plain": [
       "   passenger_count  cost_without_tip  estimated_lyft_cost\n",
       "0                1         15.527082            14.524888\n",
       "1                2         15.619222            14.691039\n",
       "2                3         15.563207            14.589872\n",
       "3                4         15.802088            14.770006\n",
       "4                5         15.293308            14.433477\n",
       "5                6         14.042696            13.716770"
      ]
     },
     "execution_count": 14,
     "metadata": {},
     "output_type": "execute_result"
    }
   ],
   "source": [
    "grouped_df"
   ]
  },
  {
   "cell_type": "code",
   "execution_count": 15,
   "metadata": {
    "collapsed": false,
    "scrolled": false
   },
   "outputs": [
    {
     "data": {
      "image/png": "[encoded data removed]",
      "text/plain": [
       "<matplotlib.figure.Figure at 0x2ba4e30e668>"
      ]
     },
     "metadata": {},
     "output_type": "display_data"
    }
   ],
   "source": [
    "x1 = grouped_df['cost_without_tip']\n",
    "x2 = grouped_df['estimated_lyft_cost']\n",
    "\n",
    "bar_labels = grouped_df['passenger_count'].unique()\n",
    "\n",
    "fig = plt.figure(figsize=(20,10))\n",
    "\n",
    "y_pos = np.arange(len(x1))\n",
    "y_pos = [x for x in y_pos]\n",
    "plt.yticks(y_pos, bar_labels, fontsize=10)\n",
    "\n",
    "plot1 = plt.barh(y_pos,x1,align='center',alpha=0.4,color='#FFD700')\n",
    "\n",
    "plt.barh(y_pos,-x2,align='center',alpha=0.4,color='#FF1493')\n",
    "\n",
    "# annotation and labels\n",
    "t = plt.title('Comparison of Lyft Vs Yellow Cab Ride Costs')\n",
    "plt.xlabel('Ride Cost')\n",
    "plt.ylabel('Passenger Count')\n",
    "plt.ylim([-1,len(x1)+0.1])\n",
    "plt.xlim([-max(x2)-5, max(x1)+5])\n",
    "\n",
    "plt.rcParams['xtick.labelsize'] = 18 \n",
    "plt.rcParams['ytick.labelsize'] = 18 \n",
    "plt.rcParams['axes.labelsize'] = 24\n",
    "plt.rcParams['axes.titlesize'] = 32\n",
    "plt.show()"
   ]
  },
  {
   "cell_type": "code",
   "execution_count": 16,
   "metadata": {
    "collapsed": false
   },
   "outputs": [],
   "source": [
    "yellow_cost_df = grouped_df[['passenger_count', 'cost_without_tip']]\n",
    "yellow_cost_df['Cab Type'] = 'Yellow'\n",
    "yellow_cost_df = yellow_cost_df.rename(columns={'cost_without_tip':'cost'})"
   ]
  },
  {
   "cell_type": "code",
   "execution_count": 17,
   "metadata": {
    "collapsed": false
   },
   "outputs": [
    {
     "data": {
      "text/html": [
       "<div>\n",
       "<table border=\"1\" class=\"dataframe\">\n",
       "  <thead>\n",
       "    <tr style=\"text-align: right;\">\n",
       "      <th></th>\n",
       "      <th>passenger_count</th>\n",
       "      <th>cost</th>\n",
       "      <th>Cab Type</th>\n",
       "    </tr>\n",
       "  </thead>\n",
       "  <tbody>\n",
       "    <tr>\n",
       "      <th>0</th>\n",
       "      <td>1</td>\n",
       "      <td>15.527082</td>\n",
       "      <td>Yellow</td>\n",
       "    </tr>\n",
       "    <tr>\n",
       "      <th>1</th>\n",
       "      <td>2</td>\n",
       "      <td>15.619222</td>\n",
       "      <td>Yellow</td>\n",
       "    </tr>\n",
       "    <tr>\n",
       "      <th>2</th>\n",
       "      <td>3</td>\n",
       "      <td>15.563207</td>\n",
       "      <td>Yellow</td>\n",
       "    </tr>\n",
       "    <tr>\n",
       "      <th>3</th>\n",
       "      <td>4</td>\n",
       "      <td>15.802088</td>\n",
       "      <td>Yellow</td>\n",
       "    </tr>\n",
       "    <tr>\n",
       "      <th>4</th>\n",
       "      <td>5</td>\n",
       "      <td>15.293308</td>\n",
       "      <td>Yellow</td>\n",
       "    </tr>\n",
       "    <tr>\n",
       "      <th>5</th>\n",
       "      <td>6</td>\n",
       "      <td>14.042696</td>\n",
       "      <td>Yellow</td>\n",
       "    </tr>\n",
       "  </tbody>\n",
       "</table>\n",
       "</div>"
      ],
      "text/plain": [
       "   passenger_count       cost Cab Type\n",
       "0                1  15.527082   Yellow\n",
       "1                2  15.619222   Yellow\n",
       "2                3  15.563207   Yellow\n",
       "3                4  15.802088   Yellow\n",
       "4                5  15.293308   Yellow\n",
       "5                6  14.042696   Yellow"
      ]
     },
     "execution_count": 17,
     "metadata": {},
     "output_type": "execute_result"
    }
   ],
   "source": [
    "yellow_cost_df"
   ]
  },
  {
   "cell_type": "code",
   "execution_count": 18,
   "metadata": {
    "collapsed": false,
    "scrolled": true
   },
   "outputs": [],
   "source": [
    "lyft_cost_df = grouped_df[['passenger_count', 'estimated_lyft_cost']]\n",
    "lyft_cost_df['Cab Type'] = 'lyft'\n",
    "lyft_cost_df = lyft_cost_df.rename(columns={'estimated_lyft_cost':'cost'})"
   ]
  },
  {
   "cell_type": "code",
   "execution_count": 19,
   "metadata": {
    "collapsed": false
   },
   "outputs": [
    {
     "data": {
      "text/html": [
       "<div>\n",
       "<table border=\"1\" class=\"dataframe\">\n",
       "  <thead>\n",
       "    <tr style=\"text-align: right;\">\n",
       "      <th></th>\n",
       "      <th>passenger_count</th>\n",
       "      <th>cost</th>\n",
       "      <th>Cab Type</th>\n",
       "    </tr>\n",
       "  </thead>\n",
       "  <tbody>\n",
       "    <tr>\n",
       "      <th>0</th>\n",
       "      <td>1</td>\n",
       "      <td>14.524888</td>\n",
       "      <td>lyft</td>\n",
       "    </tr>\n",
       "    <tr>\n",
       "      <th>1</th>\n",
       "      <td>2</td>\n",
       "      <td>14.691039</td>\n",
       "      <td>lyft</td>\n",
       "    </tr>\n",
       "    <tr>\n",
       "      <th>2</th>\n",
       "      <td>3</td>\n",
       "      <td>14.589872</td>\n",
       "      <td>lyft</td>\n",
       "    </tr>\n",
       "    <tr>\n",
       "      <th>3</th>\n",
       "      <td>4</td>\n",
       "      <td>14.770006</td>\n",
       "      <td>lyft</td>\n",
       "    </tr>\n",
       "    <tr>\n",
       "      <th>4</th>\n",
       "      <td>5</td>\n",
       "      <td>14.433477</td>\n",
       "      <td>lyft</td>\n",
       "    </tr>\n",
       "    <tr>\n",
       "      <th>5</th>\n",
       "      <td>6</td>\n",
       "      <td>13.716770</td>\n",
       "      <td>lyft</td>\n",
       "    </tr>\n",
       "  </tbody>\n",
       "</table>\n",
       "</div>"
      ],
      "text/plain": [
       "   passenger_count       cost Cab Type\n",
       "0                1  14.524888     lyft\n",
       "1                2  14.691039     lyft\n",
       "2                3  14.589872     lyft\n",
       "3                4  14.770006     lyft\n",
       "4                5  14.433477     lyft\n",
       "5                6  13.716770     lyft"
      ]
     },
     "execution_count": 19,
     "metadata": {},
     "output_type": "execute_result"
    }
   ],
   "source": [
    "lyft_cost_df"
   ]
  },
  {
   "cell_type": "code",
   "execution_count": 20,
   "metadata": {
    "collapsed": false
   },
   "outputs": [],
   "source": [
    "joined_df = pd.concat([yellow_cost_df,lyft_cost_df])"
   ]
  },
  {
   "cell_type": "code",
   "execution_count": 21,
   "metadata": {
    "collapsed": false
   },
   "outputs": [
    {
     "data": {
      "text/plain": [
       "16.0"
      ]
     },
     "execution_count": 21,
     "metadata": {},
     "output_type": "execute_result"
    }
   ],
   "source": [
    "ymax = joined_df.cost.max().round()\n",
    "ymax"
   ]
  },
  {
   "cell_type": "code",
   "execution_count": 22,
   "metadata": {
    "collapsed": false,
    "scrolled": true
   },
   "outputs": [
    {
     "data": {
      "image/png": "[encoded data removed]",
      "text/plain": [
       "<matplotlib.figure.Figure at 0x2ba4e6910f0>"
      ]
     },
     "metadata": {},
     "output_type": "display_data"
    }
   ],
   "source": [
    "myColors = [\"#FFD700\",\"#FF1493\"]\n",
    "rc={'font.size': 24, 'axes.labelsize': 24, 'legend.fontsize': 24.0, \n",
    "    'axes.titlesize': 36, 'xtick.labelsize': 18, 'ytick.labelsize': 18}\n",
    "sns.set(rc=rc)\n",
    "factor_plot = sns.factorplot(x=\"passenger_count\", y=\"cost\", hue=\"Cab Type\",\n",
    "                             data=joined_df, kind = 'bar' , size = 18, palette=myColors,\n",
    "                            legend=True, legend_out=False)\n",
    "plt.ylim(0, 18)\n",
    "factor_plot.set()\n",
    "factor_plot.despine(left=True)\n",
    "factor_plot.set_xlabels('Passenger Count')\n",
    "factor_plot.set_ylabels('Cost')\n",
    "figure_title = factor_plot.fig.suptitle('Yellow Cab Vs. Lyft Cost comparison')\n",
    "figure_title.set_position([.5, 1.03])\n",
    "\n",
    "factor_plot.ax.xaxis.label.set_color('#FF0000')\n",
    "factor_plot.ax.yaxis.label.set_color('#FF0000')\n",
    "\n",
    "font ={'family': 'serif','color':  'darkred','weight': 'normal','size': 16}\n",
    "\n",
    "for p in factor_plot.ax.patches:\n",
    "    percentage = p.get_height()\n",
    "    factor_plot.ax.text(p.get_x(), percentage+0.1, '%1.2f'%(percentage), fontdict= font)"
   ]
  }
 ],
 "metadata": {
  "kernelspec": {
   "display_name": "Python [Root]",
   "language": "python",
   "name": "Python [Root]"
  },
  "language_info": {
   "codemirror_mode": {
    "name": "ipython",
    "version": 3
   },
   "file_extension": ".py",
   "mimetype": "text/x-python",
   "name": "python",
   "nbconvert_exporter": "python",
   "pygments_lexer": "ipython3",
   "version": "3.5.2"
  }
 },
 "nbformat": 4,
 "nbformat_minor": 0
}
